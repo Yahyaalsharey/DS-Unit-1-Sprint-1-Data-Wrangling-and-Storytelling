!wget https://s3.amazonaws.com/instacart-datasets/instacart_online_grocery_shopping_2017_05_01.tar.gz

loans_df['loan_amnt'] = loans_df['loan_amnt'].astype(int)

def loan_great():
   if (loans_df['loan_status']).any == 'Current' or (loans_df['loan_status']).any == 'Fully Paid':
     return 1
   else:
     return 0

loans_df['loan_status'].isin(['Current','Fully Paid']).astype(int)
